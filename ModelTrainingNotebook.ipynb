{
 "cells": [
  {
   "cell_type": "code",
   "execution_count": 1,
   "id": "a423f0cc-3a21-4ca8-80b2-957833896530",
   "metadata": {
    "scrolled": true
   },
   "outputs": [],
   "source": [
    "import os\n",
    "import cv2\n",
    "import numpy as np\n",
    "import matplotlib.pyplot as plt\n",
    "import tensorflow as tf\n",
    "import pathlib\n",
    "import random"
   ]
  },
  {
   "cell_type": "code",
   "execution_count": 300,
   "id": "7dc40487-199a-4ff1-b8dd-6d191de03288",
   "metadata": {},
   "outputs": [],
   "source": [
    "# Own data model\n"
   ]
  },
  {
   "cell_type": "code",
   "execution_count": 3,
   "id": "4a83d9bf-79f1-4c04-bbe4-82176cdc729b",
   "metadata": {},
   "outputs": [
    {
     "name": "stderr",
     "output_type": "stream",
     "text": [
      "C:\\Users\\lloyd\\anaconda3\\envs\\intro_ml\\Lib\\site-packages\\keras\\src\\layers\\reshaping\\flatten.py:37: UserWarning: Do not pass an `input_shape`/`input_dim` argument to a layer. When using Sequential models, prefer using an `Input(shape)` object as the first layer in the model instead.\n",
      "  super().__init__(**kwargs)\n"
     ]
    }
   ],
   "source": [
    "width=45\n",
    "height=45\n",
    "bSize=60\n",
    "rlNeurons = 128\n",
    "rlClasses = 5\n",
    "\n",
    "model = tf.keras.models.Sequential()\n",
    "model.add(tf.keras.layers.Flatten(input_shape=(width,height)))\n",
    "model.add(tf.keras.layers.Dense(rlNeurons, activation='relu'))\n",
    "model.add(tf.keras.layers.Dense(rlNeurons, activation='relu'))\n",
    "\n",
    "# model.add(tf.keras.layers.Dense(250, activation='relu'))\n",
    "model.add(tf.keras.layers.Dense(rlClasses, activation='softmax'))\n",
    "\n",
    "\n"
   ]
  },
  {
   "cell_type": "code",
   "execution_count": 4,
   "id": "b2044d93-986f-4368-8109-fa370dae0c1c",
   "metadata": {},
   "outputs": [
    {
     "ename": "NameError",
     "evalue": "name 'seed' is not defined",
     "output_type": "error",
     "traceback": [
      "\u001b[1;31m---------------------------------------------------------------------------\u001b[0m",
      "\u001b[1;31mNameError\u001b[0m                                 Traceback (most recent call last)",
      "Cell \u001b[1;32mIn[4], line 2\u001b[0m\n\u001b[0;32m      1\u001b[0m rlSeed \u001b[38;5;241m=\u001b[39m \u001b[38;5;28mround\u001b[39m(random\u001b[38;5;241m.\u001b[39mrandom()\u001b[38;5;241m*\u001b[39m\u001b[38;5;241m1000\u001b[39m)\n\u001b[1;32m----> 2\u001b[0m \u001b[38;5;28mprint\u001b[39m(\u001b[43mseed\u001b[49m)\n",
      "\u001b[1;31mNameError\u001b[0m: name 'seed' is not defined"
     ]
    }
   ],
   "source": [
    "rlSeed = round(random.random()*1000)\n",
    "print(seed)"
   ]
  },
  {
   "cell_type": "code",
   "execution_count": 41,
   "id": "40bf0993-014d-4705-9187-4cd57373eb70",
   "metadata": {},
   "outputs": [
    {
     "name": "stdout",
     "output_type": "stream",
     "text": [
      "Found 2500 files belonging to 5 classes.\n"
     ]
    }
   ],
   "source": [
    "gs_train = tf.keras.preprocessing.image_dataset_from_directory(\n",
    "'Symbols45V2',\n",
    "labels='inferred',\n",
    "label_mode = \"int\",\n",
    "color_mode='grayscale',\n",
    "batch_size=bSize,\n",
    "image_size=(height, width),\n",
    "shuffle=True,\n",
    "seed=rlSeed,\n",
    "# validation_split=0.1\n",
    "#subset=\"training\"\n",
    ")\n",
    "\n",
    "# gs_valid = tf.keras.preprocessing.image_dataset_from_directory(\n",
    "# 'Symbols45V2',\n",
    "# labels='inferred',\n",
    "# label_mode = \"int\",\n",
    "# color_mode='grayscale',\n",
    "# batch_size=bSize,\n",
    "# image_size=(height, width),\n",
    "# shuffle=True,\n",
    "# seed=rlSeed,\n",
    "# validation_split=0.1,\n",
    "# subset=\"validation\"\n",
    "# )"
   ]
  },
  {
   "cell_type": "code",
   "execution_count": 895,
   "id": "30fba877-0f8d-4518-9404-8eefa275d8a6",
   "metadata": {},
   "outputs": [
    {
     "name": "stdout",
     "output_type": "stream",
     "text": [
      "Epoch 1/9\n",
      "\u001b[1m38/38\u001b[0m \u001b[32m━━━━━━━━━━━━━━━━━━━━\u001b[0m\u001b[37m\u001b[0m \u001b[1m1s\u001b[0m 9ms/step - accuracy: 0.1944 - loss: 437.0736\n",
      "Epoch 2/9\n",
      "\u001b[1m38/38\u001b[0m \u001b[32m━━━━━━━━━━━━━━━━━━━━\u001b[0m\u001b[37m\u001b[0m \u001b[1m0s\u001b[0m 8ms/step - accuracy: 0.5084 - loss: 25.5932\n",
      "Epoch 3/9\n",
      "\u001b[1m38/38\u001b[0m \u001b[32m━━━━━━━━━━━━━━━━━━━━\u001b[0m\u001b[37m\u001b[0m \u001b[1m0s\u001b[0m 9ms/step - accuracy: 0.6933 - loss: 12.4281\n",
      "Epoch 4/9\n",
      "\u001b[1m38/38\u001b[0m \u001b[32m━━━━━━━━━━━━━━━━━━━━\u001b[0m\u001b[37m\u001b[0m \u001b[1m0s\u001b[0m 9ms/step - accuracy: 0.7574 - loss: 8.1698 \n",
      "Epoch 5/9\n",
      "\u001b[1m38/38\u001b[0m \u001b[32m━━━━━━━━━━━━━━━━━━━━\u001b[0m\u001b[37m\u001b[0m \u001b[1m0s\u001b[0m 11ms/step - accuracy: 0.8185 - loss: 5.4338\n",
      "Epoch 6/9\n",
      "\u001b[1m38/38\u001b[0m \u001b[32m━━━━━━━━━━━━━━━━━━━━\u001b[0m\u001b[37m\u001b[0m \u001b[1m0s\u001b[0m 9ms/step - accuracy: 0.8649 - loss: 3.5783\n",
      "Epoch 7/9\n",
      "\u001b[1m38/38\u001b[0m \u001b[32m━━━━━━━━━━━━━━━━━━━━\u001b[0m\u001b[37m\u001b[0m \u001b[1m0s\u001b[0m 9ms/step - accuracy: 0.8654 - loss: 3.2251\n",
      "Epoch 8/9\n",
      "\u001b[1m38/38\u001b[0m \u001b[32m━━━━━━━━━━━━━━━━━━━━\u001b[0m\u001b[37m\u001b[0m \u001b[1m0s\u001b[0m 9ms/step - accuracy: 0.8610 - loss: 2.8727\n",
      "Epoch 9/9\n",
      "\u001b[1m38/38\u001b[0m \u001b[32m━━━━━━━━━━━━━━━━━━━━\u001b[0m\u001b[37m\u001b[0m \u001b[1m0s\u001b[0m 9ms/step - accuracy: 0.8367 - loss: 3.8942\n"
     ]
    },
    {
     "data": {
      "text/plain": [
       "<keras.src.callbacks.history.History at 0x1ce5af7fc10>"
      ]
     },
     "execution_count": 895,
     "metadata": {},
     "output_type": "execute_result"
    }
   ],
   "source": [
    "model.compile(optimizer='adam', loss= 'sparse_categorical_crossentropy', metrics=['accuracy'])\n",
    "model.fit(gs_train, epochs=9, verbose=1)"
   ]
  },
  {
   "cell_type": "code",
   "execution_count": 896,
   "id": "8313b6f9-0e41-461a-bc20-45bffee6587b",
   "metadata": {
    "scrolled": true
   },
   "outputs": [
    {
     "name": "stdout",
     "output_type": "stream",
     "text": [
      "\u001b[1m5/5\u001b[0m \u001b[32m━━━━━━━━━━━━━━━━━━━━\u001b[0m\u001b[37m\u001b[0m \u001b[1m0s\u001b[0m 6ms/step - accuracy: 0.8033 - loss: 5.0650 \n"
     ]
    },
    {
     "data": {
      "text/plain": [
       "[4.302671432495117, 0.828000009059906]"
      ]
     },
     "execution_count": 896,
     "metadata": {},
     "output_type": "execute_result"
    }
   ],
   "source": [
    "model.evaluate(gs_valid, batch_size=1, verbose=1)"
   ]
  },
  {
   "cell_type": "code",
   "execution_count": 851,
   "id": "fcf8cdd4-b79e-4c58-a67b-50c2afb7f4b6",
   "metadata": {},
   "outputs": [],
   "source": [
    "# 45x45, Layers = 2, Neurons = 64, b = 40\n",
    "#model.save('rlModel1L1N128A9061.keras')"
   ]
  },
  {
   "cell_type": "code",
   "execution_count": 218,
   "id": "b2244515-badc-4837-846c-e99113726dea",
   "metadata": {},
   "outputs": [],
   "source": [
    "# Control model"
   ]
  },
  {
   "cell_type": "code",
   "execution_count": 6,
   "id": "38a67b7b-ead0-41b0-b4ee-1750003fadc9",
   "metadata": {},
   "outputs": [],
   "source": [
    "widthC=45\n",
    "heightC=45\n",
    "bSizeC=70\n",
    "neurons = 256\n",
    "classes = 5\n",
    "\n",
    "modelControl = tf.keras.models.Sequential()\n",
    "modelControl.add(tf.keras.layers.Flatten(input_shape=(heightC,widthC)))\n",
    "modelControl.add(tf.keras.layers.Dense(neurons, activation='relu'))\n",
    "modelControl.add(tf.keras.layers.Dense(neurons, activation='relu'))\n",
    "\n",
    "modelControl.add(tf.keras.layers.Dense(classes, activation='softmax'))"
   ]
  },
  {
   "cell_type": "code",
   "execution_count": 35,
   "id": "71e63ed5-c559-42d6-a714-17d432db26f5",
   "metadata": {},
   "outputs": [
    {
     "name": "stdout",
     "output_type": "stream",
     "text": [
      "160\n"
     ]
    }
   ],
   "source": [
    "seed = round(random.random()*1000)\n",
    "print(seed)"
   ]
  },
  {
   "cell_type": "code",
   "execution_count": 45,
   "id": "eccb4214-26ed-4971-90e1-be299640a836",
   "metadata": {},
   "outputs": [
    {
     "name": "stdout",
     "output_type": "stream",
     "text": [
      "Found 13982 files belonging to 5 classes.\n",
      "Using 12584 files for training.\n",
      "Found 13982 files belonging to 5 classes.\n",
      "Using 1398 files for validation.\n"
     ]
    }
   ],
   "source": [
    "com_train = tf.keras.preprocessing.image_dataset_from_directory(\n",
    "'combined',\n",
    "labels='inferred',\n",
    "label_mode = \"int\",\n",
    "color_mode='grayscale',\n",
    "batch_size=bSizeC,\n",
    "image_size=(heightC, widthC),\n",
    "shuffle=True,\n",
    "seed=1234,\n",
    "validation_split=0.1,\n",
    "subset=\"training\"\n",
    ")\n",
    "\n",
    "com_valid = tf.keras.preprocessing.image_dataset_from_directory(\n",
    "'combined',\n",
    "labels='inferred',\n",
    "label_mode = \"int\",\n",
    "color_mode='grayscale',\n",
    "batch_size=bSizeC,\n",
    "image_size=(heightC, widthC),\n",
    "shuffle=True,\n",
    "seed=1234,\n",
    "validation_split=0.1,\n",
    "subset=\"validation\"\n",
    ")"
   ]
  },
  {
   "cell_type": "code",
   "execution_count": 932,
   "id": "ecfba9fa-af99-409c-8775-d2676c31bbbb",
   "metadata": {},
   "outputs": [
    {
     "name": "stdout",
     "output_type": "stream",
     "text": [
      "Epoch 1/9\n",
      "\u001b[1m180/180\u001b[0m \u001b[32m━━━━━━━━━━━━━━━━━━━━\u001b[0m\u001b[37m\u001b[0m \u001b[1m3s\u001b[0m 11ms/step - accuracy: 0.2820 - loss: 245.5225\n",
      "Epoch 2/9\n",
      "\u001b[1m180/180\u001b[0m \u001b[32m━━━━━━━━━━━━━━━━━━━━\u001b[0m\u001b[37m\u001b[0m \u001b[1m2s\u001b[0m 11ms/step - accuracy: 0.6373 - loss: 6.8514\n",
      "Epoch 3/9\n",
      "\u001b[1m180/180\u001b[0m \u001b[32m━━━━━━━━━━━━━━━━━━━━\u001b[0m\u001b[37m\u001b[0m \u001b[1m2s\u001b[0m 11ms/step - accuracy: 0.7821 - loss: 2.9908\n",
      "Epoch 4/9\n",
      "\u001b[1m180/180\u001b[0m \u001b[32m━━━━━━━━━━━━━━━━━━━━\u001b[0m\u001b[37m\u001b[0m \u001b[1m2s\u001b[0m 13ms/step - accuracy: 0.8279 - loss: 1.9951\n",
      "Epoch 5/9\n",
      "\u001b[1m180/180\u001b[0m \u001b[32m━━━━━━━━━━━━━━━━━━━━\u001b[0m\u001b[37m\u001b[0m \u001b[1m2s\u001b[0m 12ms/step - accuracy: 0.8403 - loss: 1.9111\n",
      "Epoch 6/9\n",
      "\u001b[1m180/180\u001b[0m \u001b[32m━━━━━━━━━━━━━━━━━━━━\u001b[0m\u001b[37m\u001b[0m \u001b[1m2s\u001b[0m 11ms/step - accuracy: 0.8961 - loss: 0.9411\n",
      "Epoch 7/9\n",
      "\u001b[1m180/180\u001b[0m \u001b[32m━━━━━━━━━━━━━━━━━━━━\u001b[0m\u001b[37m\u001b[0m \u001b[1m2s\u001b[0m 11ms/step - accuracy: 0.9223 - loss: 0.6473\n",
      "Epoch 8/9\n",
      "\u001b[1m180/180\u001b[0m \u001b[32m━━━━━━━━━━━━━━━━━━━━\u001b[0m\u001b[37m\u001b[0m \u001b[1m2s\u001b[0m 11ms/step - accuracy: 0.8632 - loss: 1.1661\n",
      "Epoch 9/9\n",
      "\u001b[1m180/180\u001b[0m \u001b[32m━━━━━━━━━━━━━━━━━━━━\u001b[0m\u001b[37m\u001b[0m \u001b[1m2s\u001b[0m 11ms/step - accuracy: 0.8977 - loss: 0.8308\n"
     ]
    },
    {
     "data": {
      "text/plain": [
       "<keras.src.callbacks.history.History at 0x1ce63c431d0>"
      ]
     },
     "execution_count": 932,
     "metadata": {},
     "output_type": "execute_result"
    }
   ],
   "source": [
    "# Epoch = 9, Batch Size = 60, Layers = 4, Neurons = 384\n",
    "modelControl.compile(optimizer='adam', loss= 'sparse_categorical_crossentropy', metrics=['accuracy'])\n",
    "modelControl.fit(con_train, epochs=9, verbose=1)"
   ]
  },
  {
   "cell_type": "code",
   "execution_count": 933,
   "id": "b2d815c1-1be6-4873-b323-9a97a50fa067",
   "metadata": {},
   "outputs": [
    {
     "name": "stdout",
     "output_type": "stream",
     "text": [
      "\u001b[1m20/20\u001b[0m \u001b[32m━━━━━━━━━━━━━━━━━━━━\u001b[0m\u001b[37m\u001b[0m \u001b[1m0s\u001b[0m 10ms/step - accuracy: 0.9604 - loss: 0.2898\n"
     ]
    },
    {
     "data": {
      "text/plain": [
       "[0.365131676197052, 0.956366240978241]"
      ]
     },
     "execution_count": 933,
     "metadata": {},
     "output_type": "execute_result"
    }
   ],
   "source": [
    "modelControl.evaluate(con_valid, batch_size=1, verbose=1)"
   ]
  },
  {
   "cell_type": "code",
   "execution_count": 46,
   "id": "1d7a1d6b-9518-4bca-a597-fa9ef202d110",
   "metadata": {},
   "outputs": [
    {
     "name": "stdout",
     "output_type": "stream",
     "text": [
      "Found 11482 files belonging to 5 classes.\n",
      "Using 10334 files for training.\n",
      "Found 11482 files belonging to 5 classes.\n",
      "Using 1148 files for validation.\n"
     ]
    }
   ],
   "source": [
    "con_train = tf.keras.preprocessing.image_dataset_from_directory(\n",
    "'ControlSymbols', \n",
    "labels='inferred',\n",
    "label_mode = \"int\",\n",
    "color_mode='grayscale',\n",
    "batch_size=bSizeC,\n",
    "image_size=(heightC, widthC),\n",
    "shuffle=True,\n",
    "seed=seed,\n",
    "validation_split=0.1,\n",
    "subset=\"training\"\n",
    ")\n",
    "\n",
    "con_valid = tf.keras.preprocessing.image_dataset_from_directory(\n",
    "'ControlSymbols',\n",
    "labels='inferred',\n",
    "label_mode = \"int\",\n",
    "color_mode='grayscale',\n",
    "batch_size=bSizeC,\n",
    "image_size=(heightC, widthC),\n",
    "shuffle=True,\n",
    "seed=seed,\n",
    "validation_split=0.1,\n",
    "subset=\"validation\"\n",
    ")"
   ]
  },
  {
   "cell_type": "code",
   "execution_count": null,
   "id": "7b75ddaa-dc29-4272-8de6-4313a456dde3",
   "metadata": {},
   "outputs": [],
   "source": []
  },
  {
   "cell_type": "code",
   "execution_count": null,
   "id": "06a1a6e4-22db-49a3-b18d-326288a7f0b6",
   "metadata": {},
   "outputs": [],
   "source": []
  },
  {
   "cell_type": "code",
   "execution_count": null,
   "id": "ff8c2a02-c247-470f-9cd2-2f1f4348a53f",
   "metadata": {},
   "outputs": [],
   "source": [
    "# Parameters calculation\n",
    "params_input_hidden1 = (widthC * heightC * neurons) + neurons\n",
    "params_hidden1_hidden2 = (neurons * neurons) + neurons\n",
    "params_hidden2_output = (neurons * classes) + classes\n",
    "\n",
    "# Total parameters\n",
    "total_params = params_input_hidden1 + params_hidden1_hidden2 + params_hidden2_output\n",
    "\n",
    "print(\"Total number of parameters in the model:\", total_params)"
   ]
  },
  {
   "cell_type": "code",
   "execution_count": 126,
   "id": "6bf2c2f2-8e02-4467-973c-ef2b74a5f5e5",
   "metadata": {
    "scrolled": true
   },
   "outputs": [],
   "source": [
    "modelC1 = tf.keras.models.load_model('best4ContolL1N512A9852.keras')"
   ]
  },
  {
   "cell_type": "code",
   "execution_count": 91,
   "id": "bc7eee85-00a6-4328-9114-93d4a9324203",
   "metadata": {},
   "outputs": [],
   "source": [
    "modelRL1 = tf.keras.models.load_model('rlModel1L1N256A9046.keras')"
   ]
  },
  {
   "cell_type": "code",
   "execution_count": 30,
   "id": "0ac972e7-628a-47bc-9dc1-f79087764a37",
   "metadata": {},
   "outputs": [],
   "source": [
    "modelCOM = tf.keras.models.load_model('combinedL2N256A9604.keras')"
   ]
  },
  {
   "cell_type": "code",
   "execution_count": null,
   "id": "ea91784e-94f9-45c9-b673-af2907909ca3",
   "metadata": {},
   "outputs": [],
   "source": []
  },
  {
   "cell_type": "code",
   "execution_count": null,
   "id": "a8f4d7a2-748d-4bad-9ff6-66582089fcf0",
   "metadata": {},
   "outputs": [],
   "source": []
  },
  {
   "cell_type": "code",
   "execution_count": null,
   "id": "4dcf2864-72f7-4937-90ba-1f0679eaf4c8",
   "metadata": {},
   "outputs": [],
   "source": []
  },
  {
   "cell_type": "code",
   "execution_count": 169,
   "id": "1a2c1a6d-8abc-412f-bc6e-772b9947fab5",
   "metadata": {},
   "outputs": [
    {
     "name": "stdout",
     "output_type": "stream",
     "text": [
      "\u001b[1m42/42\u001b[0m \u001b[32m━━━━━━━━━━━━━━━━━━━━\u001b[0m\u001b[37m\u001b[0m \u001b[1m0s\u001b[0m 8ms/step - accuracy: 0.5042 - loss: 22.5094\n"
     ]
    },
    {
     "data": {
      "text/plain": [
       "[23.834531784057617, 0.47999998927116394]"
      ]
     },
     "execution_count": 169,
     "metadata": {},
     "output_type": "execute_result"
    }
   ],
   "source": [
    "modelC1.evaluate(gs_train, batch_size=1, verbose=1)"
   ]
  },
  {
   "cell_type": "code",
   "execution_count": 124,
   "id": "84ecb646-432e-4032-ac8c-a2d1f50aace9",
   "metadata": {},
   "outputs": [
    {
     "name": "stdout",
     "output_type": "stream",
     "text": [
      "\u001b[1m148/148\u001b[0m \u001b[32m━━━━━━━━━━━━━━━━━━━━\u001b[0m\u001b[37m\u001b[0m \u001b[1m1s\u001b[0m 10ms/step - accuracy: 0.3906 - loss: 99.2094\n"
     ]
    },
    {
     "data": {
      "text/plain": [
       "[99.09935760498047, 0.3905554413795471]"
      ]
     },
     "execution_count": 124,
     "metadata": {},
     "output_type": "execute_result"
    }
   ],
   "source": [
    "modelRL1.evaluate(con_train, batch_size=1, verbose=1)"
   ]
  },
  {
   "cell_type": "code",
   "execution_count": 62,
   "id": "2a1ef990-ac7b-4062-baa5-fe69c4257534",
   "metadata": {},
   "outputs": [
    {
     "name": "stdout",
     "output_type": "stream",
     "text": [
      "\u001b[1m148/148\u001b[0m \u001b[32m━━━━━━━━━━━━━━━━━━━━\u001b[0m\u001b[37m\u001b[0m \u001b[1m2s\u001b[0m 10ms/step - accuracy: 0.9801 - loss: 0.0715\n"
     ]
    },
    {
     "data": {
      "text/plain": [
       "[0.08319933712482452, 0.9784207344055176]"
      ]
     },
     "execution_count": 62,
     "metadata": {},
     "output_type": "execute_result"
    }
   ],
   "source": [
    "modelCOM.evaluate(con_train)"
   ]
  },
  {
   "cell_type": "code",
   "execution_count": null,
   "id": "450332a4-9438-4c70-ba3d-4359563c7584",
   "metadata": {},
   "outputs": [],
   "source": []
  }
 ],
 "metadata": {
  "kernelspec": {
   "display_name": "Python 3 (ipykernel)",
   "language": "python",
   "name": "python3"
  },
  "language_info": {
   "codemirror_mode": {
    "name": "ipython",
    "version": 3
   },
   "file_extension": ".py",
   "mimetype": "text/x-python",
   "name": "python",
   "nbconvert_exporter": "python",
   "pygments_lexer": "ipython3",
   "version": "3.11.8"
  }
 },
 "nbformat": 4,
 "nbformat_minor": 5
}
